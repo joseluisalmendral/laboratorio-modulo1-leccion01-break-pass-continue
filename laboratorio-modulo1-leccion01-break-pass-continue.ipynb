{
 "cells": [
  {
   "cell_type": "markdown",
   "metadata": {},
   "source": [
    "\n",
    "<div style=\"text-align: center;\">\n",
    "  <img src=\"https://github.com/Hack-io-Data/Imagenes/blob/main/01-LogosHackio/logo_celeste@4x.png?raw=true\" alt=\"esquema\" />\n",
    "</div>\n"
   ]
  },
  {
   "cell_type": "markdown",
   "metadata": {},
   "source": [
    "# Laboratorio de Python: break(), pass(), continue()"
   ]
  },
  {
   "cell_type": "markdown",
   "metadata": {},
   "source": [
    "## Ejercicio 1: Validación de datos numéricos. \n",
    "\n",
    "Escribe un bucle que lea una lista de números y detenga la ejecución si encuentra un valor negativo. Muestra un mensaje indicando el número negativo encontrado.\n"
   ]
  },
  {
   "cell_type": "code",
   "execution_count": 1,
   "metadata": {},
   "outputs": [
    {
     "name": "stdout",
     "output_type": "stream",
     "text": [
      "Numero negativo --> -4\n"
     ]
    }
   ],
   "source": [
    "lista_numeros = [1,2,3,-4,5,6]\n",
    "\n",
    "for n in lista_numeros:\n",
    "    if n < 0:\n",
    "        print(f\"Numero negativo --> {n}\")\n",
    "        break"
   ]
  },
  {
   "cell_type": "markdown",
   "metadata": {},
   "source": [
    "\n",
    "## Ejercicio 2: Filtrado de datos\n",
    "\n",
    "Escribe un bucle que imprima los números de una lista, pero que omita los números pares.\n"
   ]
  },
  {
   "cell_type": "code",
   "execution_count": 2,
   "metadata": {},
   "outputs": [
    {
     "name": "stdout",
     "output_type": "stream",
     "text": [
      "1\n",
      "3\n",
      "5\n"
     ]
    }
   ],
   "source": [
    "for n in lista_numeros:\n",
    "    if n % 2 != 0:\n",
    "        print(n)"
   ]
  },
  {
   "cell_type": "markdown",
   "metadata": {},
   "source": [
    "## Ejercicio 3: Búsqueda de un valor\n",
    "\n",
    "Escribe un programa que busque un valor específico en una lista y detenga la búsqueda cuando lo encuentre. Si se encuentra, muestra un mensaje.\n"
   ]
  },
  {
   "cell_type": "code",
   "execution_count": 5,
   "metadata": {},
   "outputs": [
    {
     "name": "stdout",
     "output_type": "stream",
     "text": [
      "El valor 3 ha sido encontrado!!\n"
     ]
    }
   ],
   "source": [
    "valor_buscado = 3\n",
    "\n",
    "for n in lista_numeros:\n",
    "    if n == valor_buscado:\n",
    "        print(f\"El valor {valor_buscado} ha sido encontrado!!\")\n",
    "        break"
   ]
  },
  {
   "cell_type": "markdown",
   "metadata": {},
   "source": [
    "## Ejercicio 4: Estructura de código incompleto\n",
    "\n",
    "Define una función que aún no tenga lógica implementada, pero que se pueda ejecutar sin errores utilizando `pass`."
   ]
  },
  {
   "cell_type": "code",
   "execution_count": 8,
   "metadata": {},
   "outputs": [],
   "source": [
    "def funcion_incompleta(n):\n",
    "    if n != 2:\n",
    "        print(\"El numero introducido es diferente a 2\")\n",
    "    else:\n",
    "        pass\n",
    "\n",
    "\n",
    "funcion_incompleta(2)"
   ]
  },
  {
   "cell_type": "markdown",
   "metadata": {},
   "source": [
    "## Ejercicio 5: Validación condicional\n",
    "\n",
    "Escribe un bucle que verifique una lista de nombres. Si encuentra un nombre vacío (cadena vacía), salta esa iteración y continúa con los demás nombres.\n"
   ]
  },
  {
   "cell_type": "code",
   "execution_count": 11,
   "metadata": {},
   "outputs": [
    {
     "name": "stdout",
     "output_type": "stream",
     "text": [
      "Julian\n",
      "Antoñito\n",
      "Carmen\n"
     ]
    }
   ],
   "source": [
    "lista_nombres = ['Julian', '', 'Antoñito', 'Carmen']\n",
    "\n",
    "for nombre in lista_nombres:\n",
    "    if len(nombre) > 0:\n",
    "        print(nombre)\n",
    "    else:\n",
    "        continue\n"
   ]
  },
  {
   "cell_type": "markdown",
   "metadata": {},
   "source": [
    "## Ejercicio 6: Búsqueda de claves en un diccionario\n",
    "\n",
    "Escribe un programa que recorra un diccionario y detenga la búsqueda si encuentra una clave específica pasada por el usuario.\n"
   ]
  },
  {
   "cell_type": "code",
   "execution_count": 12,
   "metadata": {},
   "outputs": [
    {
     "name": "stdout",
     "output_type": "stream",
     "text": [
      "Clave 'apellido1' encontrada!\n"
     ]
    }
   ],
   "source": [
    "diccionario = {\n",
    "    \"nombre\": \"Jose Luis\",\n",
    "    \"apellido1\": \"Fernandez\",\n",
    "    \"apellido2\": \"Almendral\",\n",
    "}\n",
    "\n",
    "clave_buscada = input(\"Introduce la clave que buscas (nombre, apellido1, apellido2)\")\n",
    "for clave in diccionario:\n",
    "    if clave == clave_buscada:\n",
    "        print(f\"Clave '{clave}' encontrada!\")\n",
    "        break"
   ]
  },
  {
   "cell_type": "markdown",
   "metadata": {},
   "source": [
    "## Ejercicio 7: Bucle con múltiples excepciones\n",
    "\n",
    "Escribe un bucle que procese una lista de operaciones matemáticas, omitiendo las operaciones que intenten dividir por cero.\n"
   ]
  },
  {
   "cell_type": "code",
   "execution_count": 27,
   "metadata": {},
   "outputs": [
    {
     "name": "stdout",
     "output_type": "stream",
     "text": [
      "restar 10 y 3 = 7\n",
      "parar 3 y 4 = \n"
     ]
    }
   ],
   "source": [
    "respuesta = \"\"\n",
    "while respuesta != \"parar\":\n",
    "    try:\n",
    "        n1 = int(input(\"Introduce el primer numero\"))\n",
    "        n2 = int(input(\"Introduce el segundo numero\"))\n",
    "        respuesta = input(\"Dime la operacion que deseas realizar\").lower()\n",
    "        operaciones = {\n",
    "            \"sumar\" : n1 + n2,\n",
    "            \"restar\" : n1 - n2,\n",
    "            \"multiplicar\" : n1 * n2,\n",
    "            \"dividir\" : n1 / n2,\n",
    "            \"parar\": \"\"\n",
    "        }\n",
    "        \n",
    "        print(f\"{respuesta} {n1} y {n2} = {operaciones[respuesta]}\")\n",
    "\n",
    "    except ZeroDivisionError:\n",
    "        pass\n"
   ]
  },
  {
   "cell_type": "markdown",
   "metadata": {},
   "source": [
    "## Ejercicio 8: Búsqueda en una lista anidada\n",
    "\n",
    "Escribe un programa que recorra una lista de listas y detenga la búsqueda cuando encuentre un valor mayor a 50.\n"
   ]
  },
  {
   "cell_type": "code",
   "execution_count": 37,
   "metadata": {},
   "outputs": [
    {
     "name": "stdout",
     "output_type": "stream",
     "text": [
      "Valor mayor a 50 encontrado (55)\n"
     ]
    }
   ],
   "source": [
    "lista_de_listas = [[1,2,3], [50, 55, 67], [100, 129]]\n",
    "\n",
    "def localizar_numero(lista_recivida):\n",
    "    for lista in lista_de_listas:\n",
    "        for n in lista:\n",
    "            if n > 50:\n",
    "                print(f\"Valor mayor a 50 encontrado ({n})\")\n",
    "                return\n",
    "\n",
    "localizar_numero(lista_de_listas)\n"
   ]
  },
  {
   "cell_type": "markdown",
   "metadata": {},
   "source": [
    "## Ejercicio 9: Evaluación de series temporales\n",
    "\n",
    "Escribe un programa que recorra una lista de datos de series temporales y se detenga si encuentra un valor atípico (mayor a 100).\n"
   ]
  },
  {
   "cell_type": "code",
   "execution_count": 46,
   "metadata": {},
   "outputs": [
    {
     "name": "stdout",
     "output_type": "stream",
     "text": [
      "Valor leido '93'\n",
      "Valor leido '11'\n",
      "Me he detenido en el '166'\n",
      "[ 93  11 166  28 104 179 144 182  27  15]\n"
     ]
    }
   ],
   "source": [
    "import numpy as np\n",
    "\n",
    "valores = np.random.randint(1, 201, size=10)  # 10 valores aleatorios entre 1 y 200\n",
    "\n",
    "for n in valores:\n",
    "    if n > 100:\n",
    "        print(f\"Me he detenido en el '{n}'\")\n",
    "        break\n",
    "    else:\n",
    "        print(f\"Valor leido '{n}'\")\n",
    "\n",
    "print(valores)"
   ]
  },
  {
   "cell_type": "markdown",
   "metadata": {},
   "source": [
    "## Ejercicio 10: Iteración con valores faltantes\n",
    "\n",
    "Crea un bucle que recorra una lista de datos de ventas y salte los valores faltantes representados por `None`."
   ]
  },
  {
   "cell_type": "code",
   "execution_count": 47,
   "metadata": {},
   "outputs": [
    {
     "name": "stdout",
     "output_type": "stream",
     "text": [
      "12.0\n",
      "34\n",
      "45\n"
     ]
    }
   ],
   "source": [
    "lista_ventas = [12.00, 34, None, 45]\n",
    "\n",
    "for venta in lista_ventas:\n",
    "    if venta == None:\n",
    "        continue\n",
    "    else:\n",
    "        print(venta)"
   ]
  },
  {
   "cell_type": "markdown",
   "metadata": {},
   "source": [
    "## Ejercicio 11: Control de flujo en bucles anidados\n",
    "\n",
    "Escribe un bucle que recorra la matriz dada y se detenga si se encuentra un número negativo, mostrando su posición.\n",
    "\n"
   ]
  },
  {
   "cell_type": "code",
   "execution_count": 50,
   "metadata": {},
   "outputs": [
    {
     "name": "stdout",
     "output_type": "stream",
     "text": [
      "Me he detenido en la posicion 3 debido al numero -4\n"
     ]
    }
   ],
   "source": [
    "matriz = [1, 2, -4, 5, 7, -2]\n",
    "\n",
    "for i, n in enumerate(matriz):\n",
    "    if n < 0:\n",
    "        print(f\"Me he detenido en la posicion {i+1} debido al numero {n}\")\n",
    "        break"
   ]
  },
  {
   "cell_type": "markdown",
   "metadata": {},
   "source": [
    "## Ejercicio 12: Placeholder para funciones incompletas\n",
    "\n",
    "Escribe una función que tenga un bloque de control que aún no esté implementado, utilizando `pass` para que no genere errores."
   ]
  },
  {
   "cell_type": "code",
   "execution_count": 53,
   "metadata": {},
   "outputs": [
    {
     "name": "stdout",
     "output_type": "stream",
     "text": [
      "Lab terminado\n"
     ]
    }
   ],
   "source": [
    "\n",
    "def terminar_lab(n):\n",
    "    if n == 2:\n",
    "        pass\n",
    "\n",
    "    print(\"Lab terminado\")\n",
    "\n",
    "terminar_lab(4)"
   ]
  }
 ],
 "metadata": {
  "kernelspec": {
   "display_name": "contenido",
   "language": "python",
   "name": "python3"
  },
  "language_info": {
   "codemirror_mode": {
    "name": "ipython",
    "version": 3
   },
   "file_extension": ".py",
   "mimetype": "text/x-python",
   "name": "python",
   "nbconvert_exporter": "python",
   "pygments_lexer": "ipython3",
   "version": "3.12.4"
  }
 },
 "nbformat": 4,
 "nbformat_minor": 2
}
